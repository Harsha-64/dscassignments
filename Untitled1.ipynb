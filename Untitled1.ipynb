{
  "nbformat": 4,
  "nbformat_minor": 0,
  "metadata": {
    "colab": {
      "name": "Untitled0.ipynb",
      "provenance": [],
      "authorship_tag": "ABX9TyNnEiaHwUPWAs0VhOJzQj92",
      "include_colab_link": true
    },
    "kernelspec": {
      "name": "python3",
      "display_name": "Python 3"
    }
  },
  "cells": [
    {
      "cell_type": "markdown",
      "metadata": {
        "id": "view-in-github",
        "colab_type": "text"
      },
      "source": [
        "<a href=\"https://colab.research.google.com/github/Harsha-64/dscassignments/blob/master/Untitled1.ipynb\" target=\"_parent\"><img src=\"https://colab.research.google.com/assets/colab-badge.svg\" alt=\"Open In Colab\"/></a>"
      ]
    },
    {
      "cell_type": "code",
      "metadata": {
        "id": "nC5lM1uipyhQ",
        "colab_type": "code",
        "colab": {
          "base_uri": "https://localhost:8080/",
          "height": 50
        },
        "outputId": "166409a7-662b-4636-9c6f-e0d43153cf57"
      },
      "source": [
        "i=input()\n",
        "thriller=[\"dark\",\"mindhunter\",\"parasite\",\"inception\",\"insidious\",\"interstellar\",\"prison break\",\"money heist\",\"war\",\"jack ryan\"]\n",
        "comedy=[\"friends\",\"3 idoits\",\"brooklyn 99\",\"how i met your mother\",\"rick and morty\",\"the big bang theorey\",\"the office\",\"space force\"]\n",
        "\n",
        "if i.lower() in thriller :\n",
        "  print(\"It is a thriller\")\n",
        "elif i.lower() in comedy :\n",
        "    print(\"It is a comedy\")\n",
        "else :\n",
        "      print(\"It's neither thriller nor comedy\")"
      ],
      "execution_count": 10,
      "outputs": [
        {
          "output_type": "stream",
          "text": [
            "war\n",
            "It is a thriller\n"
          ],
          "name": "stdout"
        }
      ]
    },
    {
      "cell_type": "code",
      "metadata": {
        "id": "NW-2-K1quuAp",
        "colab_type": "code",
        "colab": {
          "base_uri": "https://localhost:8080/",
          "height": 67
        },
        "outputId": "d76818ed-38a5-48da-9dbf-538d5d69b736"
      },
      "source": [
        "from collections import Counter\n",
        "\n",
        "def gloves(n,arr):\n",
        "    n = Counter(arr)\n",
        "    return sum(i//2 for i in n.values())\n",
        "\n",
        "n = input()\n",
        "arr = list(map(int,input().split()))\n",
        "print(gloves(n,arr))"
      ],
      "execution_count": 45,
      "outputs": [
        {
          "output_type": "stream",
          "text": [
            "5\n",
            "10 20 10 20 10\n",
            "2\n"
          ],
          "name": "stdout"
        }
      ]
    }
  ]
}